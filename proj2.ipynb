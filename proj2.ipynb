{
 "cells": [
  {
   "cell_type": "markdown",
   "metadata": {},
   "source": [
    "# Project 2: Spam/Ham Prediction\n",
    "\n",
    "In this project, you will use what you've learned in class to create a classifier that can distinguish spam emails from ham (non-spam) emails.\n",
    "\n",
    "We'll walk you through a couple steps to get you started, but this project is almost entirely open-ended. Instead of providing you with a skeleton to fill in, we will evaluate your work based on your model's accuracy and your written responses in this notebook."
   ]
  },
  {
   "cell_type": "markdown",
   "metadata": {},
   "source": [
    "## Kaggle\n",
    "\n",
    "This project is a bit different from the other assignments in this class because we are using Kaggle to evaluate your model's accuracy. Kaggle is a website that hosts machine learning competitions.\n",
    "\n",
    "We've created a competition just for this project: https://www.kaggle.com/t/433a6bca95f94a78a0d2a6e7e8b311c3\n",
    "\n",
    "Here's how submitting to Kaggle works:\n",
    "\n",
    "1. You will create a classifier using the training dataset.\n",
    "2. You will use your classifier to make predictions on the test dataset.\n",
    "3. You will upload your predictions as a CSV to https://www.kaggle.com/t/433a6bca95f94a78a0d2a6e7e8b311c3\n",
    "4. The website will tell you your accuracy on the test set. You may only do this twice a day. You must reach a test set accuracy of **88%** in order to get full credit for the Kaggle portion of the assignment.\n",
    "\n",
    "(After the assignment ends, we will evaluate your accuracy on a private test set to ensure that you aren't overfitting to the test set.)"
   ]
  },
  {
   "cell_type": "markdown",
   "metadata": {},
   "source": [
    "## Submission\n",
    "\n",
    "This project has no ok tests (and no autograder). Instead, you will submit the following:\n",
    "\n",
    "0. **Your notebook to OkPy**. You can do this by running the `ok.submit()` cell at the bottom of this notebook. Note that there is no autograder for this assignment so you will not receive autograder emails.\n",
    "0. **Your notebook's written answers to GradeScope.** The cell to export the notebook is located at the bottom of this notebook. If you have trouble converting your notebook to PDF, you may upload your notebook to http://datahub.berkeley.edu/ and run the cell there.\n",
    "0. **Your model's predictions on the test set to Kaggle**, a website that hosts machine learning competitions. Kaggle will output your your accuracy on the test set so that you will know whether you've met the accuracy threshold or not.\n",
    "\n",
    "**To prevent you from fitting to the test set, you may only upload predictions to Kaggle twice per day.** This means you should start early. In addition, if you decide to pair with someone else, your group only gets two submissions per day (not four).\n",
    "\n",
    "This project (notebook + Gradescope submissions) is officially due Friday, Dec 1 at 11:59:59pm since we can't make assignments due after classes end. However, we will accept submissions until **Monday, Dec 4 at 11:59:59pm** without using slip days. Submissions after Dec 4 will use 1 slip day each day after Dec 4. The Kaggle competition will remain open until **Saturday Dec 9 at 11:59:59pm**.\n",
    "\n",
    "**No late Kaggle submissions will be accepted** since we've taken slip days into account when setting the Kaggle deadline. You will not use slip days for Kaggle submissions."
   ]
  },
  {
   "cell_type": "markdown",
   "metadata": {},
   "source": [
    "## Grading\n",
    "Grading will be based on a number of set criteria, enumerated below:\n",
    "\n",
    "Task | Description\n",
    "--- | ---\n",
    "Basic Classifier | You succesfully implement our guided basic logistic regression classifier.\n",
    "EDA | You create four exploratory plots that help explain your feature choices.\n",
    "Feature Selection | You explain and justify your feature selection process\n",
    "Written Questions | You answer the written questions that we place throughout this notebook.\n",
    "Kaggle Accuracy | Your model beats the prediction accuracy threshold of **88%**. This is attainable with a well-thought-out model.\n",
    "\n",
    "**You are allowed to work in groups of 2 for this assignment!** If you decide to partner with someone else, make sure you do the following:\n",
    "\n",
    "1. Have one person in the group invite the other on OkPy: https://okpy.org/cal/ds100/fa17/proj2/\n",
    "1. Have one person in the group invite the other person on Gradescope.\n",
    "1. Have one person in the group invite the other person on Kaggle: https://www.kaggle.com/t/433a6bca95f94a78a0d2a6e7e8b311c3"
   ]
  },
  {
   "cell_type": "markdown",
   "metadata": {},
   "source": [
    "## Prizes\n",
    "\n",
    "Although you need to reach 88% accuracy in order to get full credit, we will reward those that create great classifiers.\n",
    "\n",
    "The top 10 students on the Kaggle leaderboard, evaluated by their score in the private test set will: \n",
    "\n",
    "1. Have bragging rights \n",
    "2. Be invited to attend a lunch at the Faculty Club, hosted by Professors Gonzalez and Nolan.\n",
    "\n",
    "## Restrictions\n",
    "\n",
    "While we want you to be creative with your models, we want to make it fair to students who are seeing these techniques for the first time.  As such, **you are only allowed to train logistic regression models and their regularized forms**.  This means no random forest, CART, neural nets, etc.  However, you are free to feature engineer to your heart's content.  Remember that domain knowledge is the third component of data science."
   ]
  },
  {
   "cell_type": "markdown",
   "metadata": {},
   "source": [
    "## Getting Started"
   ]
  },
  {
   "cell_type": "code",
   "execution_count": 1,
   "metadata": {},
   "outputs": [
    {
     "name": "stdout",
     "output_type": "stream",
     "text": [
      "=====================================================================\n",
      "Assignment: Project 2\n",
      "OK, version v1.13.9\n",
      "=====================================================================\n",
      "\n"
     ]
    }
   ],
   "source": [
    "# Run this cell to set up your notebook\n",
    "import seaborn as sns\n",
    "import csv\n",
    "import numpy as np\n",
    "import pandas as pd\n",
    "import matplotlib.pyplot as plt\n",
    "%matplotlib inline\n",
    "sns.set()\n",
    "sns.set_context(\"talk\")\n",
    "\n",
    "from IPython.display import display, Latex, Markdown, HTML, Javascript\n",
    "from client.api.notebook import Notebook\n",
    "ok = Notebook('proj2.ok')"
   ]
  },
  {
   "cell_type": "code",
   "execution_count": 2,
   "metadata": {
    "scrolled": true
   },
   "outputs": [
    {
     "name": "stdout",
     "output_type": "stream",
     "text": [
      "Successfully logged in as bogeunchoi@berkeley.edu\n"
     ]
    }
   ],
   "source": [
    "# Log into OkPy.\n",
    "# You might need to change this to ok.auth(force=True) if you get an error\n",
    "ok.auth(force=False)"
   ]
  },
  {
   "cell_type": "markdown",
   "metadata": {},
   "source": [
    "For your convenience, run this cell to highlight the written response cells in light blue. Only the highlighted cells will be converted to the GradeScope PDF, so put your written answers there.\n",
    "\n",
    "Unfortunately, you'll have to run this each time you open your notebook to highlight cells."
   ]
  },
  {
   "cell_type": "code",
   "execution_count": 3,
   "metadata": {},
   "outputs": [
    {
     "data": {
      "application/javascript": [
       "\n",
       "Jupyter.notebook.get_cells().map(function(cell) {\n",
       "  var tags = cell.metadata.tags\n",
       "  if (tags && tags.indexOf('written') >= 0)\n",
       "    cell.element.css('background-color', '#efefff')\n",
       "})\n"
      ],
      "text/plain": [
       "<IPython.core.display.Javascript object>"
      ]
     },
     "metadata": {},
     "output_type": "display_data"
    }
   ],
   "source": [
    "highlight_cells = '''\n",
    "Jupyter.notebook.get_cells().map(function(cell) {\n",
    "  var tags = cell.metadata.tags\n",
    "  if (tags && tags.indexOf('written') >= 0)\n",
    "    cell.element.css('background-color', '#efefff')\n",
    "})\n",
    "'''\n",
    "display(Javascript(highlight_cells))"
   ]
  },
  {
   "cell_type": "markdown",
   "metadata": {},
   "source": [
    "## Loading in the Data\n",
    "\n",
    "The dataset consists of email messages and their labels (0 for ham, 1 for spam). The training set contains 8348 labeled examples, and the test set contains 1000 unlabeled examples.\n",
    "\n",
    "Run the following cells to load in the data into DataFrames.\n",
    "\n",
    "The `train` DataFrame contains labeled data that you will use to train your model. It contains three columns:\n",
    "\n",
    "1. `id`: An identifier for the training example.\n",
    "1. `subject`: The subject of the email\n",
    "1. `email`: The text of the email.\n",
    "1. `spam`: 1 if the email was spam, 0 if the email was ham (not spam).\n",
    "\n",
    "The `test` DataFrame contains another set of 1000 unlabeled examples. You will predict labels for these examples and submit your predictions to Kaggle for evaluation."
   ]
  },
  {
   "cell_type": "code",
   "execution_count": 4,
   "metadata": {},
   "outputs": [
    {
     "data": {
      "text/html": [
       "<div>\n",
       "<style>\n",
       "    .dataframe thead tr:only-child th {\n",
       "        text-align: right;\n",
       "    }\n",
       "\n",
       "    .dataframe thead th {\n",
       "        text-align: left;\n",
       "    }\n",
       "\n",
       "    .dataframe tbody tr th {\n",
       "        vertical-align: top;\n",
       "    }\n",
       "</style>\n",
       "<table border=\"1\" class=\"dataframe\">\n",
       "  <thead>\n",
       "    <tr style=\"text-align: right;\">\n",
       "      <th></th>\n",
       "      <th>id</th>\n",
       "      <th>subject</th>\n",
       "      <th>email</th>\n",
       "      <th>spam</th>\n",
       "    </tr>\n",
       "  </thead>\n",
       "  <tbody>\n",
       "    <tr>\n",
       "      <th>0</th>\n",
       "      <td>0</td>\n",
       "      <td>Subject: A&amp;L Daily to be auctioned in bankrupt...</td>\n",
       "      <td>url: http://boingboing.net/#85534171\\n date: n...</td>\n",
       "      <td>0</td>\n",
       "    </tr>\n",
       "    <tr>\n",
       "      <th>1</th>\n",
       "      <td>1</td>\n",
       "      <td>Subject: Wired: \"Stronger ties between ISPs an...</td>\n",
       "      <td>url: http://scriptingnews.userland.com/backiss...</td>\n",
       "      <td>0</td>\n",
       "    </tr>\n",
       "    <tr>\n",
       "      <th>2</th>\n",
       "      <td>2</td>\n",
       "      <td>Subject: It's just too small                  ...</td>\n",
       "      <td>&lt;html&gt;\\n &lt;head&gt;\\n &lt;/head&gt;\\n &lt;body&gt;\\n &lt;font siz...</td>\n",
       "      <td>1</td>\n",
       "    </tr>\n",
       "    <tr>\n",
       "      <th>3</th>\n",
       "      <td>3</td>\n",
       "      <td>Subject: liberal defnitions\\n</td>\n",
       "      <td>depends on how much over spending vs. how much...</td>\n",
       "      <td>0</td>\n",
       "    </tr>\n",
       "    <tr>\n",
       "      <th>4</th>\n",
       "      <td>4</td>\n",
       "      <td>Subject: RE: [ILUG] Newbie seeks advice - Suse...</td>\n",
       "      <td>hehe sorry but if you hit caps lock twice the ...</td>\n",
       "      <td>0</td>\n",
       "    </tr>\n",
       "  </tbody>\n",
       "</table>\n",
       "</div>"
      ],
      "text/plain": [
       "   id                                            subject  \\\n",
       "0   0  Subject: A&L Daily to be auctioned in bankrupt...   \n",
       "1   1  Subject: Wired: \"Stronger ties between ISPs an...   \n",
       "2   2  Subject: It's just too small                  ...   \n",
       "3   3                      Subject: liberal defnitions\\n   \n",
       "4   4  Subject: RE: [ILUG] Newbie seeks advice - Suse...   \n",
       "\n",
       "                                               email  spam  \n",
       "0  url: http://boingboing.net/#85534171\\n date: n...     0  \n",
       "1  url: http://scriptingnews.userland.com/backiss...     0  \n",
       "2  <html>\\n <head>\\n </head>\\n <body>\\n <font siz...     1  \n",
       "3  depends on how much over spending vs. how much...     0  \n",
       "4  hehe sorry but if you hit caps lock twice the ...     0  "
      ]
     },
     "execution_count": 4,
     "metadata": {},
     "output_type": "execute_result"
    }
   ],
   "source": [
    "train = pd.read_csv('train.csv')\n",
    "# We lower case the emails to make them easier to work with\n",
    "train['email'] = train['email'].str.lower()\n",
    "train.head()"
   ]
  },
  {
   "cell_type": "code",
   "execution_count": 5,
   "metadata": {},
   "outputs": [
    {
     "data": {
      "text/html": [
       "<div>\n",
       "<style>\n",
       "    .dataframe thead tr:only-child th {\n",
       "        text-align: right;\n",
       "    }\n",
       "\n",
       "    .dataframe thead th {\n",
       "        text-align: left;\n",
       "    }\n",
       "\n",
       "    .dataframe tbody tr th {\n",
       "        vertical-align: top;\n",
       "    }\n",
       "</style>\n",
       "<table border=\"1\" class=\"dataframe\">\n",
       "  <thead>\n",
       "    <tr style=\"text-align: right;\">\n",
       "      <th></th>\n",
       "      <th>id</th>\n",
       "      <th>subject</th>\n",
       "      <th>email</th>\n",
       "    </tr>\n",
       "  </thead>\n",
       "  <tbody>\n",
       "    <tr>\n",
       "      <th>0</th>\n",
       "      <td>0</td>\n",
       "      <td>Subject: CERT Advisory CA-2002-21 Vulnerabilit...</td>\n",
       "      <td>\\n \\n -----begin pgp signed message-----\\n \\n ...</td>\n",
       "    </tr>\n",
       "    <tr>\n",
       "      <th>1</th>\n",
       "      <td>1</td>\n",
       "      <td>Subject: ADV: Affordable Life Insurance ddbfk\\n</td>\n",
       "      <td>low-cost term-life insurance!\\n save up to 70%...</td>\n",
       "    </tr>\n",
       "    <tr>\n",
       "      <th>2</th>\n",
       "      <td>2</td>\n",
       "      <td>Subject: CAREER OPPORTUNITY.  WORK FROM HOME\\n</td>\n",
       "      <td>------=_nextpart_000_00a0_03e30a1a.b1804b54\\n ...</td>\n",
       "    </tr>\n",
       "    <tr>\n",
       "      <th>3</th>\n",
       "      <td>3</td>\n",
       "      <td>Subject: Marriage makes both sexes happy\\n</td>\n",
       "      <td>url: http://www.newsisfree.com/click/-3,848315...</td>\n",
       "    </tr>\n",
       "    <tr>\n",
       "      <th>4</th>\n",
       "      <td>4</td>\n",
       "      <td>Subject: Re: [SAtalk] SA very slow (hangs?) on...</td>\n",
       "      <td>on thursday 29 august 2002 16:39 cet mike burg...</td>\n",
       "    </tr>\n",
       "  </tbody>\n",
       "</table>\n",
       "</div>"
      ],
      "text/plain": [
       "   id                                            subject  \\\n",
       "0   0  Subject: CERT Advisory CA-2002-21 Vulnerabilit...   \n",
       "1   1    Subject: ADV: Affordable Life Insurance ddbfk\\n   \n",
       "2   2     Subject: CAREER OPPORTUNITY.  WORK FROM HOME\\n   \n",
       "3   3         Subject: Marriage makes both sexes happy\\n   \n",
       "4   4  Subject: Re: [SAtalk] SA very slow (hangs?) on...   \n",
       "\n",
       "                                               email  \n",
       "0  \\n \\n -----begin pgp signed message-----\\n \\n ...  \n",
       "1  low-cost term-life insurance!\\n save up to 70%...  \n",
       "2  ------=_nextpart_000_00a0_03e30a1a.b1804b54\\n ...  \n",
       "3  url: http://www.newsisfree.com/click/-3,848315...  \n",
       "4  on thursday 29 august 2002 16:39 cet mike burg...  "
      ]
     },
     "execution_count": 5,
     "metadata": {},
     "output_type": "execute_result"
    }
   ],
   "source": [
    "test = pd.read_csv('test.csv')\n",
    "test['email'] = test['email'].str.lower()\n",
    "test.head()"
   ]
  },
  {
   "cell_type": "markdown",
   "metadata": {},
   "source": [
    "### Question 1\n",
    "\n",
    "In the cell below, print the text of the first ham and the first spam email in the training set. Then, discuss one thing you notice that is different between the two."
   ]
  },
  {
   "cell_type": "code",
   "execution_count": 6,
   "metadata": {
    "tags": [
     "written",
     "q01",
     "student"
    ]
   },
   "outputs": [
    {
     "name": "stdout",
     "output_type": "stream",
     "text": [
      "HAM\n",
      "url: http://boingboing.net/#85534171\n",
      " date: not supplied\n",
      " \n",
      " arts and letters daily, a wonderful and dense blog, has folded up its tent due \n",
      " to the bankruptcy of its parent company. a&l daily will be auctioned off by the \n",
      " receivers. link[1] discuss[2] (_thanks, misha!_)\n",
      " \n",
      " [1] http://www.aldaily.com/\n",
      " [2] http://www.quicktopic.com/boing/h/zlfterjnd6jf\n",
      " \n",
      " \n",
      "\n",
      "SPAM\n",
      "<html>\n",
      " <head>\n",
      " </head>\n",
      " <body>\n",
      " <font size=3d\"4\"><b> a man endowed with a 7-8\" hammer is simply<br>\n",
      "  better equipped than a man with a 5-6\"hammer. <br>\n",
      " <br>would you rather have<br>more than enough to get the job done or fall =\n",
      " short. it's totally up<br>to you. our methods are guaranteed to increase y=\n",
      " our size by 1-3\"<br> <a href=3d\"http://209.163.187.47/cgi-bin/index.php?10=\n",
      " 004\">come in here and see how</a>\n",
      " </body>\n",
      " </html>\n",
      " \n",
      " \n",
      " \n",
      "\n"
     ]
    },
    {
     "data": {
      "text/markdown": [
       "\n",
       "The ham email has a url and date header with a text body while the spam email has HTML tags.\n"
      ],
      "text/plain": [
       "<IPython.core.display.Markdown object>"
      ]
     },
     "metadata": {},
     "output_type": "display_data"
    }
   ],
   "source": [
    "# Print the text of the first ham and the first spam emails. Then, fill in your response in the q01 variable:\n",
    "\n",
    "print('HAM')\n",
    "print(train.loc[0]['email'])\n",
    "print('SPAM')\n",
    "print(train.loc[2]['email'])\n",
    "\n",
    "q01 = '''\n",
    "The ham email has a url and date header with a text body while the spam email has HTML tags.\n",
    "'''\n",
    "display(Markdown(q01))"
   ]
  },
  {
   "cell_type": "markdown",
   "metadata": {},
   "source": [
    "## Our First Features\n",
    "\n",
    "We would like to take the text of an email and predict whether the text is ham or spam. This is a *classification* problem, so we will use logistic regression to make a classifier.\n",
    "\n",
    "Recall that the input to logistic regression is a matrix $X$ that contains numeric values only. Unfortunately, our data are text, not numbers. To address this, we can create numeric features derived from the email text and use those features for logistic regression.\n",
    "\n",
    "Each row of $X$ is derived from one email example. Each column of $X$ is one feature. We'll guide you through creating a simple feature, and you'll create more interesting ones when you are trying to increase your accuracy.\n",
    "\n",
    "### Question 2\n",
    "\n",
    "Create a function called `words_in_text` that takes in a list of words and the text of an email. It outputs a pandas Series containing either a 0 or a 1 for each word in the list. The value of the Series should be 0 if the word doesn't appear in the text and 1 if the word does."
   ]
  },
  {
   "cell_type": "code",
   "execution_count": 7,
   "metadata": {
    "collapsed": true,
    "tags": [
     "student"
    ]
   },
   "outputs": [],
   "source": [
    "def words_in_text(words, text):\n",
    "    '''\n",
    "    Args:\n",
    "        `words` (list of str): words to find\n",
    "        `text` (str): string to search in\n",
    "    \n",
    "    Returns:\n",
    "        Series containing either 0 or 1 for each word in words\n",
    "        (0 if the word is not in text, 1 if the word is).\n",
    "    '''\n",
    "    list_o_nums = []\n",
    "    for word in words:\n",
    "        if (word in text):\n",
    "            list_o_nums.append(1)\n",
    "        else:\n",
    "            list_o_nums.append(0)\n",
    "    return pd.Series(list_o_nums)\n",
    "\n",
    "# If these don't error, your function outputs the correct output for these examples\n",
    "assert np.allclose(words_in_text(['hello'], 'hello world'),\n",
    "                   [1])\n",
    "assert np.allclose(words_in_text(['hello', 'bye', 'world'], 'hello world hello'),\n",
    "                   [1, 0, 1])"
   ]
  },
  {
   "cell_type": "markdown",
   "metadata": {},
   "source": [
    "### Question 3\n",
    "\n",
    "Now, create a function called `words_in_texts` that takes in a list of words and a pandas Series of email texts. It should output a 2-dimensional NumPy matrix containing one row for each email text. The row should contain the output of `words_in_text` for each example. For example:\n",
    "\n",
    "```python\n",
    ">>> words_in_texts(['hello', 'bye', 'world'], pd.Series(['hello', 'hello world hello']))\n",
    "array([[1, 0, 0],\n",
    "       [1, 0, 1]])\n",
    "```\n",
    "\n",
    "You should be able to use the `.apply` and `.as_matrix` functions to implement this."
   ]
  },
  {
   "cell_type": "code",
   "execution_count": 8,
   "metadata": {
    "collapsed": true,
    "tags": [
     "student"
    ]
   },
   "outputs": [],
   "source": [
    "def words_in_texts(words, texts):\n",
    "    '''\n",
    "    Args:\n",
    "        `words` (list of str): words to find\n",
    "        `texts` (Series of str): strings to search in\n",
    "    \n",
    "    Returns:\n",
    "        NumPy array of 0s and 1s with shape (n, p) where n is the\n",
    "        number of texts and p is the number of words.\n",
    "    '''\n",
    "    item_df = texts.apply(lambda x: words_in_text(words, x))\n",
    "    item_matrix = item_df.as_matrix()\n",
    "    return item_matrix\n",
    "\n",
    "# If these don't error, your function outputs the correct output for these examples\n",
    "assert np.allclose(words_in_texts(['hello', 'bye', 'world'], pd.Series(['hello', 'hello world hello'])),\n",
    "                   np.array([[1, 0, 0], [1, 0, 1]]))"
   ]
  },
  {
   "cell_type": "markdown",
   "metadata": {},
   "source": [
    "## Classification\n",
    "\n",
    "Notice that the output of `words_in_texts` is a numeric matrix containing features for each email. This means we can use it directly to train a classifier.\n",
    "\n",
    "### Question 4\n",
    "\n",
    "We've given you 5 words that might be useful as features to distinguish spam/ham emails. Use these words as well as the `train` DataFrame to create two NumPy arrays: `X_train` and `y_train`.\n",
    "\n",
    "`X_train` should be a matrix of 0s and 1s created by using your `words_in_texts` function on all the emails in the training set.\n",
    "\n",
    "`y_train` should be vector of the correct labels for each email in the training set."
   ]
  },
  {
   "cell_type": "code",
   "execution_count": 9,
   "metadata": {
    "scrolled": true,
    "tags": [
     "student"
    ]
   },
   "outputs": [
    {
     "data": {
      "text/plain": [
       "(array([[0, 1, 0, 0, 0],\n",
       "        [0, 0, 0, 0, 0],\n",
       "        [0, 0, 0, 0, 0],\n",
       "        [0, 0, 0, 0, 1],\n",
       "        [0, 0, 0, 0, 0]]), 0    0\n",
       " 1    0\n",
       " 2    1\n",
       " 3    0\n",
       " 4    0\n",
       " Name: spam, dtype: int64)"
      ]
     },
     "execution_count": 9,
     "metadata": {},
     "output_type": "execute_result"
    }
   ],
   "source": [
    "some_words = ['drug', 'bank', 'prescription', 'memo', 'private']\n",
    "\n",
    "X_train = words_in_texts(some_words, train['email'])\n",
    "y_train = train['spam']\n",
    "\n",
    "X_train[:5], y_train[:5]"
   ]
  },
  {
   "cell_type": "code",
   "execution_count": 10,
   "metadata": {},
   "outputs": [
    {
     "data": {
      "text/plain": [
       "(8348, 5)"
      ]
     },
     "execution_count": 10,
     "metadata": {},
     "output_type": "execute_result"
    }
   ],
   "source": [
    "X_train\n",
    "X_train.shape"
   ]
  },
  {
   "cell_type": "markdown",
   "metadata": {},
   "source": [
    "### Question 5\n",
    "\n",
    "Now we have matrices we can give to scikit-learn! Using the [`LogisticRegression`](http://scikit-learn.org/stable/modules/generated/sklearn.linear_model.LogisticRegression.html) classifier, train a logistic regression model using `X_train` and `y_train`. Then, output the accuracy of the model in the cell below. You should get an accuracy of around 0.7557."
   ]
  },
  {
   "cell_type": "code",
   "execution_count": 11,
   "metadata": {
    "tags": [
     "student"
    ]
   },
   "outputs": [
    {
     "data": {
      "text/plain": [
       "0.75574988021082889"
      ]
     },
     "execution_count": 11,
     "metadata": {},
     "output_type": "execute_result"
    }
   ],
   "source": [
    "from sklearn.linear_model import LogisticRegression\n",
    "\n",
    "clf = LogisticRegression()\n",
    "clf.fit(X_train, y_train)\n",
    "\n",
    "clf.score(X_train, y_train)"
   ]
  },
  {
   "cell_type": "code",
   "execution_count": 12,
   "metadata": {},
   "outputs": [
    {
     "name": "stdout",
     "output_type": "stream",
     "text": [
      "predicted    238\n",
      "true         238\n",
      "dtype: int64 predicted    6071\n",
      "true         6071\n",
      "dtype: int64 predicted    1902\n",
      "true         1902\n",
      "dtype: int64 predicted    137\n",
      "true         137\n",
      "dtype: int64\n",
      "predicted    6208\n",
      "true         6208\n",
      "dtype: int64 predicted    2140\n",
      "true         2140\n",
      "dtype: int64\n"
     ]
    }
   ],
   "source": [
    "from sklearn.metrics import recall_score, precision_score\n",
    "\n",
    "predictions = pd.Series(clf.predict(X_train))\n",
    "wao = pd.Series.to_frame(predictions)\n",
    "wao['true'] = y_train\n",
    "wao.columns = ['predicted', 'true']\n",
    "\n",
    "true_pos = wao[((wao['predicted'] == 1) & (wao['true'] == 1))].count()\n",
    "true_neg = wao[((wao['predicted'] == 0) & (wao['true'] == 0))].count()\n",
    "false_pos = wao[((wao['predicted'] == 0) & (wao['true'] == 1))].count()\n",
    "false_neg = wao[((wao['predicted'] == 1) & (wao['true'] == 0))].count()\n",
    "\n",
    "hams = wao[wao['true'] == 0].count()\n",
    "spams = wao[wao['true'] == 1].count()\n",
    "\n",
    "print(true_pos, true_neg, false_pos, false_neg)\n",
    "print(hams, spams)"
   ]
  },
  {
   "cell_type": "markdown",
   "metadata": {},
   "source": [
    "### Question 6\n",
    "\n",
    "That doesn't seem too shabby! But the classifier you made above isn't as great as you might think. Recall that we have other ways of evaluating a classifier:\n",
    "\n",
    "*Sensitivity* (also called *recall*) is the rate of true positives; in this case, the proportion of spam emails that are classified as spam.\n",
    "\n",
    "*Specificity* (also called *precision*) is the rate of true negatives; in this case, the proportion of ham emails that are classified as ham.\n",
    "\n",
    "Answer the following questions in the light blue cell below. You may create other cells for scratch work, but your final answers\n",
    "must appear in the light blue cell.\n",
    "\n",
    "0. Suppose we have a classifier that just predicts 0 (ham) for every email. What is its sensitivity? Its specificity?\n",
    "0. Suppose we have a classifier that just predicts 0 (ham) for every email. What is its accuracy on the training set?\n",
    "0. Our logistic regression classifier got 75% prediction accuracy (number of correct predictions / total). Why is this a poor accuracy?\n",
    "0. What is the sensitivity of the logistic regression classifier above? The specificity? What kind of mistake is our classifier more likely to make: false positives or false negatives?\n",
    "0. Given the word features we gave you above, name one reason this classifier is performing poorly."
   ]
  },
  {
   "cell_type": "markdown",
   "metadata": {
    "tags": [
     "student",
     "written",
     "q06"
    ]
   },
   "source": [
    "0. The sensitivity would be 0 because there would be no spam emails that are classified as spam, since all emails are predicted as ham. The specificity would be 1 because all ham emails would be classified as ham.\n",
    "0. It would be the proportion of ham emails to total emails in the training set, or 6208/8348 (0.74365117393). Since it only predicts ham, the ham emails are correctly predicted while the spam emails are incorrectly predicted.\n",
    "0. Because it is barely more accurate than the above classifier of just predicting ham for each email, so the classifier can be a lot better.\n",
    "0. The sensitivity is 238/2140 (the number of predicted spams over the real number of spams) and the precision is 6071/6208 (the number of predicted hams over the real number of hams). False positives seem like the more likely mistake that the classifier might make based on this.\n",
    "0. One reason may be that using those certain key words may not be the best indicator of what a spam email is. For example, 'prescription' can be in both spam and ham emails, so it doesn't help the classifier much."
   ]
  },
  {
   "cell_type": "markdown",
   "metadata": {},
   "source": [
    "## Moving Forward\n",
    "\n",
    "With this in mind, it is now your assignment to make your classifier more accurate. In particular, in order to get full credit on the accuracy part of this assignment, you must get at least **88%** accuracy on the test set. To see your accuracy on the test set, you will use your classifier to predict every email in the `test` DataFrame and upload your predictions to Kaggle.\n",
    "\n",
    "To prevent you from fitting to the test set, you may only upload predictions to Kaggle twice per day. This means you should start early!\n",
    "\n",
    "Here are some ideas for improving your model:\n",
    "\n",
    "1. Finding better features based on the email text. For example, simple features that typically work for emails are:\n",
    "    1. Number of characters in the subject / body\n",
    "    1. Number of words in the subject / body\n",
    "    1. Use of punctuation (e.g., how many '!' were there?)\n",
    "    1. Number / percentage of capital letters \n",
    "    1. Whether or not the email is a reply to an earlier email or a forwarded email. \n",
    "    1. Using bag-of-words or [td-idf](http://www.tfidf.com/).\n",
    "1. Finding better words to use as features. Which words are the best at distinguishing emails? This requires digging into the email text itself. (To help you out, we've given you a set of [English stopwords](https://www.wikiwand.com/en/Stop_words) in `stopwords.csv`)\n",
    "1. Better data processing. For example, many emails contain HTML as well as text. You can consider extracting out the text from the HTML to help you find better words. Or, you can match HTML tags themselves, or even some combination of the two.\n",
    "1. Model selection. You can adjust parameters of your model (e.g., the regularization parameter) to achieve higher accuracy. \n",
    "\n",
    "Recall that you should use cross-validation to do feature and model selection properly! Otherwise, you will likely overfit to your training data.\n",
    "\n",
    "You may use whatever method you prefer in order to create features. However, we want to make it fair to students who are seeing these techniques for the first time.  As such, **you are only allowed to train logistic regression models and their regularized forms**. This means no random forest, k-nearest-neighbors, neural nets, etc.\n",
    "\n",
    "We will not give you a code skeleton to do this, so feel free to create as many cells as you need in order to tackle this task. However, you should show us your process as outlined here:"
   ]
  },
  {
   "cell_type": "markdown",
   "metadata": {},
   "source": [
    "### EDA Process"
   ]
  },
  {
   "cell_type": "code",
   "execution_count": 13,
   "metadata": {},
   "outputs": [
    {
     "data": {
      "text/html": [
       "<div>\n",
       "<style>\n",
       "    .dataframe thead tr:only-child th {\n",
       "        text-align: right;\n",
       "    }\n",
       "\n",
       "    .dataframe thead th {\n",
       "        text-align: left;\n",
       "    }\n",
       "\n",
       "    .dataframe tbody tr th {\n",
       "        vertical-align: top;\n",
       "    }\n",
       "</style>\n",
       "<table border=\"1\" class=\"dataframe\">\n",
       "  <thead>\n",
       "    <tr style=\"text-align: right;\">\n",
       "      <th></th>\n",
       "      <th>id</th>\n",
       "      <th>subject</th>\n",
       "      <th>email</th>\n",
       "      <th>spam</th>\n",
       "    </tr>\n",
       "  </thead>\n",
       "  <tbody>\n",
       "    <tr>\n",
       "      <th>0</th>\n",
       "      <td>0</td>\n",
       "      <td>Subject: A&amp;L Daily to be auctioned in bankrupt...</td>\n",
       "      <td>url: http://boingboing.net/#85534171\\n date: n...</td>\n",
       "      <td>0</td>\n",
       "    </tr>\n",
       "    <tr>\n",
       "      <th>1</th>\n",
       "      <td>1</td>\n",
       "      <td>Subject: Wired: \"Stronger ties between ISPs an...</td>\n",
       "      <td>url: http://scriptingnews.userland.com/backiss...</td>\n",
       "      <td>0</td>\n",
       "    </tr>\n",
       "    <tr>\n",
       "      <th>2</th>\n",
       "      <td>2</td>\n",
       "      <td>Subject: It's just too small                  ...</td>\n",
       "      <td>&lt;html&gt;\\n &lt;head&gt;\\n &lt;/head&gt;\\n &lt;body&gt;\\n &lt;font siz...</td>\n",
       "      <td>1</td>\n",
       "    </tr>\n",
       "    <tr>\n",
       "      <th>3</th>\n",
       "      <td>3</td>\n",
       "      <td>Subject: liberal defnitions\\n</td>\n",
       "      <td>depends on how much over spending vs. how much...</td>\n",
       "      <td>0</td>\n",
       "    </tr>\n",
       "    <tr>\n",
       "      <th>4</th>\n",
       "      <td>4</td>\n",
       "      <td>Subject: RE: [ILUG] Newbie seeks advice - Suse...</td>\n",
       "      <td>hehe sorry but if you hit caps lock twice the ...</td>\n",
       "      <td>0</td>\n",
       "    </tr>\n",
       "  </tbody>\n",
       "</table>\n",
       "</div>"
      ],
      "text/plain": [
       "   id                                            subject  \\\n",
       "0   0  Subject: A&L Daily to be auctioned in bankrupt...   \n",
       "1   1  Subject: Wired: \"Stronger ties between ISPs an...   \n",
       "2   2  Subject: It's just too small                  ...   \n",
       "3   3                      Subject: liberal defnitions\\n   \n",
       "4   4  Subject: RE: [ILUG] Newbie seeks advice - Suse...   \n",
       "\n",
       "                                               email  spam  \n",
       "0  url: http://boingboing.net/#85534171\\n date: n...     0  \n",
       "1  url: http://scriptingnews.userland.com/backiss...     0  \n",
       "2  <html>\\n <head>\\n </head>\\n <body>\\n <font siz...     1  \n",
       "3  depends on how much over spending vs. how much...     0  \n",
       "4  hehe sorry but if you hit caps lock twice the ...     0  "
      ]
     },
     "execution_count": 13,
     "metadata": {},
     "output_type": "execute_result"
    }
   ],
   "source": [
    "train.head()"
   ]
  },
  {
   "cell_type": "code",
   "execution_count": 14,
   "metadata": {},
   "outputs": [
    {
     "name": "stdout",
     "output_type": "stream",
     "text": [
      "6.4570093457943925 2.0968105670103094\n",
      "2.364485981308411 3.2288981958762886\n"
     ]
    }
   ],
   "source": [
    "spam_df = train[train['spam'] == 1].reset_index(drop=True)\n",
    "ham_df = train[train['spam'] == 0].reset_index(drop=True)\n",
    "\n",
    "spam_df['exclam_count'] = spam_df['email'].apply(lambda x: x.count('!'))\n",
    "ham_df['exclam_count'] = ham_df['email'].apply(lambda x: x.count('!'))\n",
    "\n",
    "spam_df['q_count'] = spam_df['email'].apply(lambda x: x.count('?'))\n",
    "ham_df['q_count'] = ham_df['email'].apply(lambda x: x.count('?'))\n",
    "\n",
    "spam_avg_exclam = spam_df['exclam_count'].mean()\n",
    "ham_avg_exclam = ham_df['exclam_count'].mean()\n",
    "\n",
    "spam_avg_q = spam_df['q_count'].mean()\n",
    "ham_avg_q = ham_df['q_count'].mean()\n",
    "\n",
    "print(spam_avg_exclam, ham_avg_exclam)\n",
    "print(spam_avg_q, ham_avg_q)"
   ]
  },
  {
   "cell_type": "code",
   "execution_count": 15,
   "metadata": {},
   "outputs": [
    {
     "name": "stdout",
     "output_type": "stream",
     "text": [
      "85 2055\n",
      "3153 3055\n"
     ]
    }
   ],
   "source": [
    "import re\n",
    "\n",
    "def search_for_re(subject):\n",
    "    if pd.isnull(subject):\n",
    "        return 0\n",
    "    if re.search(r\"\\sR[Ee]:\\s\", subject):\n",
    "        return 0\n",
    "    else:\n",
    "        return 1\n",
    "    \n",
    "    \n",
    "spam_df['re'] = spam_df['subject'].apply(lambda x: search_for_re(x))\n",
    "ham_df['re'] = ham_df['subject'].apply(lambda x: search_for_re(x))\n",
    "\n",
    "spam_re_count = spam_df.groupby('re').count()['id'][0]\n",
    "spam_not_re_count = spam_df.groupby('re').count()['id'][1]\n",
    "ham_re_count = ham_df.groupby('re').count()['id'][0]\n",
    "ham_not_re_count = ham_df.groupby('re').count()['id'][1]\n",
    "\n",
    "print(spam_re_count, spam_not_re_count)\n",
    "print(ham_re_count, ham_not_re_count)"
   ]
  },
  {
   "cell_type": "code",
   "execution_count": 16,
   "metadata": {},
   "outputs": [
    {
     "name": "stdout",
     "output_type": "stream",
     "text": [
      "url: http://boingboing.net/#85534171\n",
      " date: not supplied\n",
      " \n",
      " arts and letters daily, a wonderful and dense blog, has folded up its tent due \n",
      " to the bankruptcy of its parent company. a&l daily will be auctioned off by the \n",
      " receivers. link[1] discuss[2] (_thanks, misha!_)\n",
      " \n",
      " [1] http://www.aldaily.com/\n",
      " [2] http://www.quicktopic.com/boing/h/zlfterjnd6jf\n",
      " \n",
      " \n",
      "\n",
      "['url', 'http', 'boingboing', 'net', 'date', 'not', 'supplied', 'arts', 'and', 'letters', 'daily', 'a', 'wonderful', 'and', 'dense', 'blog', 'has', 'folded', 'up', 'its', 'tent', 'due', 'to', 'the', 'bankruptcy', 'of', 'its', 'parent', 'company', 'a', 'l', 'daily', 'will', 'be', 'auctioned', 'off', 'by', 'the', 'receivers', 'link', 'discuss', 'thanks', 'misha', 'http', 'www', 'aldaily', 'com', 'http', 'www', 'quicktopic', 'com', 'boing', 'h', 'zlfterjnd', 'jf', '']\n"
     ]
    }
   ],
   "source": [
    "example_ham = ham_df['email'][0]\n",
    "list_o_words = re.split(r\"[^a-zA-Z]+\", example_ham)\n",
    "\n",
    "print(example_ham)\n",
    "print(list_o_words)"
   ]
  },
  {
   "cell_type": "code",
   "execution_count": 17,
   "metadata": {},
   "outputs": [
    {
     "name": "stdout",
     "output_type": "stream",
     "text": [
      "['arts', 'and', 'letters', 'daily', 'a', 'wonderful', 'and', 'dense', 'blog', 'has', 'folded', 'up', 'its', 'tent', 'due', 'to', 'the', 'bankruptcy', 'of', 'its', 'parent', 'company', 'a', 'l', 'daily', 'will', 'be', 'auctioned', 'off', 'by', 'the', 'receivers', 'link', 'discuss', 'thanks', 'misha']\n"
     ]
    }
   ],
   "source": [
    "clean_text = re.sub(r\"((url: http:\\S+)|(date: .+\\n)|(http.*)|(<.*?>))\", \"\", example_ham)\n",
    "word_list = re.split(r\"[^a-zA-Z]+\", clean_text)\n",
    "word_list = list(filter(None, word_list))\n",
    "\n",
    "print(word_list)"
   ]
  },
  {
   "cell_type": "code",
   "execution_count": 18,
   "metadata": {},
   "outputs": [
    {
     "data": {
      "text/html": [
       "<div>\n",
       "<style>\n",
       "    .dataframe thead tr:only-child th {\n",
       "        text-align: right;\n",
       "    }\n",
       "\n",
       "    .dataframe thead th {\n",
       "        text-align: left;\n",
       "    }\n",
       "\n",
       "    .dataframe tbody tr th {\n",
       "        vertical-align: top;\n",
       "    }\n",
       "</style>\n",
       "<table border=\"1\" class=\"dataframe\">\n",
       "  <thead>\n",
       "    <tr style=\"text-align: right;\">\n",
       "      <th></th>\n",
       "      <th>id</th>\n",
       "      <th>subject</th>\n",
       "      <th>email</th>\n",
       "      <th>spam</th>\n",
       "      <th>exclam_count</th>\n",
       "      <th>q_count</th>\n",
       "      <th>re</th>\n",
       "      <th>word_count</th>\n",
       "    </tr>\n",
       "  </thead>\n",
       "  <tbody>\n",
       "    <tr>\n",
       "      <th>0</th>\n",
       "      <td>0</td>\n",
       "      <td>Subject: A&amp;L Daily to be auctioned in bankrupt...</td>\n",
       "      <td>url: http://boingboing.net/#85534171\\n date: n...</td>\n",
       "      <td>0</td>\n",
       "      <td>1</td>\n",
       "      <td>0</td>\n",
       "      <td>1</td>\n",
       "      <td>36</td>\n",
       "    </tr>\n",
       "    <tr>\n",
       "      <th>1</th>\n",
       "      <td>1</td>\n",
       "      <td>Subject: Wired: \"Stronger ties between ISPs an...</td>\n",
       "      <td>url: http://scriptingnews.userland.com/backiss...</td>\n",
       "      <td>0</td>\n",
       "      <td>0</td>\n",
       "      <td>0</td>\n",
       "      <td>1</td>\n",
       "      <td>14</td>\n",
       "    </tr>\n",
       "    <tr>\n",
       "      <th>2</th>\n",
       "      <td>3</td>\n",
       "      <td>Subject: liberal defnitions\\n</td>\n",
       "      <td>depends on how much over spending vs. how much...</td>\n",
       "      <td>0</td>\n",
       "      <td>0</td>\n",
       "      <td>1</td>\n",
       "      <td>1</td>\n",
       "      <td>235</td>\n",
       "    </tr>\n",
       "    <tr>\n",
       "      <th>3</th>\n",
       "      <td>4</td>\n",
       "      <td>Subject: RE: [ILUG] Newbie seeks advice - Suse...</td>\n",
       "      <td>hehe sorry but if you hit caps lock twice the ...</td>\n",
       "      <td>0</td>\n",
       "      <td>1</td>\n",
       "      <td>4</td>\n",
       "      <td>0</td>\n",
       "      <td>323</td>\n",
       "    </tr>\n",
       "    <tr>\n",
       "      <th>4</th>\n",
       "      <td>5</td>\n",
       "      <td>Subject: Five\\n</td>\n",
       "      <td>url: http://diveintomark.org/archives/2002/10/...</td>\n",
       "      <td>0</td>\n",
       "      <td>0</td>\n",
       "      <td>1</td>\n",
       "      <td>1</td>\n",
       "      <td>60</td>\n",
       "    </tr>\n",
       "  </tbody>\n",
       "</table>\n",
       "</div>"
      ],
      "text/plain": [
       "   id                                            subject  \\\n",
       "0   0  Subject: A&L Daily to be auctioned in bankrupt...   \n",
       "1   1  Subject: Wired: \"Stronger ties between ISPs an...   \n",
       "2   3                      Subject: liberal defnitions\\n   \n",
       "3   4  Subject: RE: [ILUG] Newbie seeks advice - Suse...   \n",
       "4   5                                    Subject: Five\\n   \n",
       "\n",
       "                                               email  spam  exclam_count  \\\n",
       "0  url: http://boingboing.net/#85534171\\n date: n...     0             1   \n",
       "1  url: http://scriptingnews.userland.com/backiss...     0             0   \n",
       "2  depends on how much over spending vs. how much...     0             0   \n",
       "3  hehe sorry but if you hit caps lock twice the ...     0             1   \n",
       "4  url: http://diveintomark.org/archives/2002/10/...     0             0   \n",
       "\n",
       "   q_count  re  word_count  \n",
       "0        0   1          36  \n",
       "1        0   1          14  \n",
       "2        1   1         235  \n",
       "3        4   0         323  \n",
       "4        1   1          60  "
      ]
     },
     "execution_count": 18,
     "metadata": {},
     "output_type": "execute_result"
    }
   ],
   "source": [
    "def word_count(text):\n",
    "    clean_text = re.sub(r\"((url: http:\\S+)|(date: .+\\n)|(http.*)|(<.*?>))\", \"\", text)\n",
    "    word_list = re.split(r\"[^a-zA-Z]+\", clean_text)\n",
    "    word_list = list(filter(None, word_list))\n",
    "    return len(word_list)\n",
    "\n",
    "spam_df['word_count'] = spam_df['email'].apply(lambda x: word_count(x))\n",
    "ham_df['word_count'] = ham_df['email'].apply(lambda x: word_count(x))\n",
    "ham_df.head()"
   ]
  },
  {
   "cell_type": "code",
   "execution_count": 19,
   "metadata": {},
   "outputs": [],
   "source": [
    "from collections import Counter\n",
    "\n",
    "ham_words = []\n",
    "spam_words = []\n",
    "\n",
    "for index, row in ham_df.iterrows():\n",
    "    clean_text = re.sub(r\"((url: http:\\S+)|(date: .+\\n)|(http.*)|(<.*?>))\", \"\", row['email'])\n",
    "    list_o_words = re.split(r\"[^a-zA-Z]+\", clean_text)\n",
    "    list_o_words = list(filter(None, list_o_words))\n",
    "    ham_words.append(list_o_words)\n",
    "\n",
    "for index, row in spam_df.iterrows():\n",
    "    clean_text = re.sub(r\"((url: http:\\S+)|(date: .+\\n)|(http.*)|(<.*?>))\", \"\", row['email'])\n",
    "    list_o_words = re.split(r\"[^a-zA-Z]+\", clean_text)\n",
    "    list_o_words = list(filter(None, list_o_words))\n",
    "    spam_words.append(list_o_words)    \n",
    "\n",
    "ham_words_flat = [item for sublist in ham_words for item in sublist]\n",
    "spam_words_flat = [item for sublist in spam_words for item in sublist]\n",
    "\n",
    "ham_word_count = Counter(ham_words_flat)\n",
    "spam_word_count = Counter(spam_words_flat)"
   ]
  },
  {
   "cell_type": "code",
   "execution_count": 20,
   "metadata": {},
   "outputs": [
    {
     "name": "stderr",
     "output_type": "stream",
     "text": [
      "/Users/Bogeun/anaconda3/lib/python3.6/site-packages/ipykernel_launcher.py:24: SettingWithCopyWarning: \n",
      "A value is trying to be set on a copy of a slice from a DataFrame\n",
      "\n",
      "See the caveats in the documentation: http://pandas.pydata.org/pandas-docs/stable/indexing.html#indexing-view-versus-copy\n"
     ]
    },
    {
     "data": {
      "text/html": [
       "<div>\n",
       "<style>\n",
       "    .dataframe thead tr:only-child th {\n",
       "        text-align: right;\n",
       "    }\n",
       "\n",
       "    .dataframe thead th {\n",
       "        text-align: left;\n",
       "    }\n",
       "\n",
       "    .dataframe tbody tr th {\n",
       "        vertical-align: top;\n",
       "    }\n",
       "</style>\n",
       "<table border=\"1\" class=\"dataframe\">\n",
       "  <thead>\n",
       "    <tr style=\"text-align: right;\">\n",
       "      <th></th>\n",
       "      <th>word</th>\n",
       "      <th>ham</th>\n",
       "      <th>spam</th>\n",
       "      <th>ratio</th>\n",
       "    </tr>\n",
       "  </thead>\n",
       "  <tbody>\n",
       "    <tr>\n",
       "      <th>0</th>\n",
       "      <td>said</td>\n",
       "      <td>1982</td>\n",
       "      <td>142</td>\n",
       "      <td>13.957746</td>\n",
       "    </tr>\n",
       "    <tr>\n",
       "      <th>1</th>\n",
       "      <td>file</td>\n",
       "      <td>1648</td>\n",
       "      <td>122</td>\n",
       "      <td>13.508197</td>\n",
       "    </tr>\n",
       "    <tr>\n",
       "      <th>2</th>\n",
       "      <td>users</td>\n",
       "      <td>2566</td>\n",
       "      <td>197</td>\n",
       "      <td>13.025381</td>\n",
       "    </tr>\n",
       "    <tr>\n",
       "      <th>3</th>\n",
       "      <td>linux</td>\n",
       "      <td>3976</td>\n",
       "      <td>331</td>\n",
       "      <td>12.012085</td>\n",
       "    </tr>\n",
       "    <tr>\n",
       "      <th>4</th>\n",
       "      <td>server</td>\n",
       "      <td>1230</td>\n",
       "      <td>108</td>\n",
       "      <td>11.388889</td>\n",
       "    </tr>\n",
       "  </tbody>\n",
       "</table>\n",
       "</div>"
      ],
      "text/plain": [
       "     word   ham  spam      ratio\n",
       "0    said  1982   142  13.957746\n",
       "1    file  1648   122  13.508197\n",
       "2   users  2566   197  13.025381\n",
       "3   linux  3976   331  12.012085\n",
       "4  server  1230   108  11.388889"
      ]
     },
     "execution_count": 20,
     "metadata": {},
     "output_type": "execute_result"
    }
   ],
   "source": [
    "ham_dict = dict(ham_word_count)\n",
    "spam_dict = dict(spam_word_count)\n",
    "\n",
    "word_ratios = pd.DataFrame()\n",
    "\n",
    "word_col = []\n",
    "ham_count = []\n",
    "spam_count = []\n",
    "ham_spam_ratio = []\n",
    "\n",
    "for key in ham_dict:\n",
    "    if key in spam_dict:\n",
    "        word_col.append(key)\n",
    "        ham_count.append(ham_dict[key])\n",
    "        spam_count.append(spam_dict[key])\n",
    "        ham_spam_ratio.append(ham_dict[key]/spam_dict[key])\n",
    "        \n",
    "word_ratios['word'] = word_col\n",
    "word_ratios['ham'] = ham_count\n",
    "word_ratios['spam'] = spam_count\n",
    "word_ratios['ratio'] = ham_spam_ratio\n",
    "\n",
    "word_ratios_filtered = word_ratios[(word_ratios['ham'] >= 100) & (word_ratios['spam'] >= 100)]\n",
    "word_ratios_filtered.sort_values(by=['ratio'], ascending=False, inplace=True)\n",
    "word_ratios_filtered.reset_index(drop=True, inplace=True)\n",
    "word_ratios_filtered.head()"
   ]
  },
  {
   "cell_type": "markdown",
   "metadata": {},
   "source": [
    "### Testing out features"
   ]
  },
  {
   "cell_type": "code",
   "execution_count": 21,
   "metadata": {},
   "outputs": [
    {
     "data": {
      "text/html": [
       "<div>\n",
       "<style>\n",
       "    .dataframe thead tr:only-child th {\n",
       "        text-align: right;\n",
       "    }\n",
       "\n",
       "    .dataframe thead th {\n",
       "        text-align: left;\n",
       "    }\n",
       "\n",
       "    .dataframe tbody tr th {\n",
       "        vertical-align: top;\n",
       "    }\n",
       "</style>\n",
       "<table border=\"1\" class=\"dataframe\">\n",
       "  <thead>\n",
       "    <tr style=\"text-align: right;\">\n",
       "      <th></th>\n",
       "      <th>id</th>\n",
       "      <th>subject</th>\n",
       "      <th>email</th>\n",
       "      <th>spam</th>\n",
       "    </tr>\n",
       "  </thead>\n",
       "  <tbody>\n",
       "    <tr>\n",
       "      <th>0</th>\n",
       "      <td>2087</td>\n",
       "      <td>Subject: Fwd: Accepting Credit Cards (Faq) [su...</td>\n",
       "      <td>\\n  if you want a your own no hassle credit ca...</td>\n",
       "      <td>1</td>\n",
       "    </tr>\n",
       "    <tr>\n",
       "      <th>1</th>\n",
       "      <td>2088</td>\n",
       "      <td>Subject: RE: Your Bank Account Information \\n</td>\n",
       "      <td>a powerhouse gifting program you don't want to...</td>\n",
       "      <td>1</td>\n",
       "    </tr>\n",
       "    <tr>\n",
       "      <th>2</th>\n",
       "      <td>2089</td>\n",
       "      <td>Subject: Saddam set to let inspectors in\\n</td>\n",
       "      <td>url: http://www.newsisfree.com/click/-2,841779...</td>\n",
       "      <td>0</td>\n",
       "    </tr>\n",
       "    <tr>\n",
       "      <th>3</th>\n",
       "      <td>2090</td>\n",
       "      <td>Subject: Re: revocation of grlygrl201@\\n</td>\n",
       "      <td>bitbitch@magnesium.net wrote:\\n  &gt; well beberg...</td>\n",
       "      <td>0</td>\n",
       "    </tr>\n",
       "    <tr>\n",
       "      <th>4</th>\n",
       "      <td>2091</td>\n",
       "      <td>Subject: YOU TO CAN MAKE---THOUSANDS PER WEEK-...</td>\n",
       "      <td>\\n this is a multipart mime message.\\n \\n --= ...</td>\n",
       "      <td>1</td>\n",
       "    </tr>\n",
       "  </tbody>\n",
       "</table>\n",
       "</div>"
      ],
      "text/plain": [
       "     id                                            subject  \\\n",
       "0  2087  Subject: Fwd: Accepting Credit Cards (Faq) [su...   \n",
       "1  2088      Subject: RE: Your Bank Account Information \\n   \n",
       "2  2089         Subject: Saddam set to let inspectors in\\n   \n",
       "3  2090           Subject: Re: revocation of grlygrl201@\\n   \n",
       "4  2091  Subject: YOU TO CAN MAKE---THOUSANDS PER WEEK-...   \n",
       "\n",
       "                                               email  spam  \n",
       "0  \\n  if you want a your own no hassle credit ca...     1  \n",
       "1  a powerhouse gifting program you don't want to...     1  \n",
       "2  url: http://www.newsisfree.com/click/-2,841779...     0  \n",
       "3  bitbitch@magnesium.net wrote:\\n  > well beberg...     0  \n",
       "4  \\n this is a multipart mime message.\\n \\n --= ...     1  "
      ]
     },
     "execution_count": 21,
     "metadata": {},
     "output_type": "execute_result"
    }
   ],
   "source": [
    "train_test = train.iloc[0:2087]\n",
    "train_test.reset_index(drop=True, inplace=True)\n",
    "\n",
    "#top = train.head()\n",
    "train_train = train.tail(6261)\n",
    "train_train.reset_index(drop=True, inplace=True)\n",
    "train_train.head()\n",
    "#train_train = pd.concat([top,bottom])"
   ]
  },
  {
   "cell_type": "code",
   "execution_count": 22,
   "metadata": {
    "collapsed": true
   },
   "outputs": [],
   "source": [
    "def ham_in_text(words, text):\n",
    "    list_o_nums = []\n",
    "    for word in words:\n",
    "        if (word in text):\n",
    "            list_o_nums.append(0)\n",
    "        else:\n",
    "            list_o_nums.append(1)\n",
    "    return pd.Series(list_o_nums)\n",
    "\n",
    "def ham_in_texts(words, texts):\n",
    "    item_df = texts.apply(lambda x: ham_in_text(words, x))\n",
    "    item_matrix = item_df.as_matrix()\n",
    "    return item_matrix\n",
    "\n",
    "def spam_in_text(words, text):\n",
    "    list_o_nums = []\n",
    "    for word in words:\n",
    "        if (word in text):\n",
    "            list_o_nums.append(1)\n",
    "        else:\n",
    "            list_o_nums.append(0)\n",
    "    return pd.Series(list_o_nums)\n",
    "\n",
    "def spam_in_texts(words, texts):\n",
    "    item_df = texts.apply(lambda x: spam_in_text(words, x))\n",
    "    item_matrix = item_df.as_matrix()\n",
    "    return item_matrix\n",
    "\n",
    "def word_count(text):\n",
    "    clean_text = re.sub(r\"((url: http:\\S+)|(date: .+\\n)|(http.*)|(<.*?>))\", \"\", text)\n",
    "    word_list = re.split(r\"[^a-zA-Z]+\", clean_text)\n",
    "    word_list = list(filter(None, word_list))\n",
    "    return len(word_list)"
   ]
  },
  {
   "cell_type": "code",
   "execution_count": 23,
   "metadata": {},
   "outputs": [
    {
     "name": "stderr",
     "output_type": "stream",
     "text": [
      "/Users/Bogeun/anaconda3/lib/python3.6/site-packages/ipykernel_launcher.py:4: SettingWithCopyWarning: \n",
      "A value is trying to be set on a copy of a slice from a DataFrame.\n",
      "Try using .loc[row_indexer,col_indexer] = value instead\n",
      "\n",
      "See the caveats in the documentation: http://pandas.pydata.org/pandas-docs/stable/indexing.html#indexing-view-versus-copy\n",
      "  after removing the cwd from sys.path.\n",
      "/Users/Bogeun/anaconda3/lib/python3.6/site-packages/ipykernel_launcher.py:5: SettingWithCopyWarning: \n",
      "A value is trying to be set on a copy of a slice from a DataFrame.\n",
      "Try using .loc[row_indexer,col_indexer] = value instead\n",
      "\n",
      "See the caveats in the documentation: http://pandas.pydata.org/pandas-docs/stable/indexing.html#indexing-view-versus-copy\n",
      "  \"\"\"\n",
      "/Users/Bogeun/anaconda3/lib/python3.6/site-packages/ipykernel_launcher.py:6: SettingWithCopyWarning: \n",
      "A value is trying to be set on a copy of a slice from a DataFrame.\n",
      "Try using .loc[row_indexer,col_indexer] = value instead\n",
      "\n",
      "See the caveats in the documentation: http://pandas.pydata.org/pandas-docs/stable/indexing.html#indexing-view-versus-copy\n",
      "  \n"
     ]
    },
    {
     "data": {
      "text/plain": [
       "(6261, 503)"
      ]
     },
     "execution_count": 23,
     "metadata": {},
     "output_type": "execute_result"
    }
   ],
   "source": [
    "hams = word_ratios_filtered['word'].iloc[0:250]\n",
    "spams = word_ratios_filtered['word'].iloc[-250:len(word_ratios_filtered)]\n",
    "\n",
    "train_train['exclam_count'] = train_train['email'].apply(lambda x: x.count('!'))\n",
    "train_train['re'] = train_train['subject'].apply(lambda x: search_for_re(x))\n",
    "train_train['word_count'] = train_train['email'].apply(lambda x: word_count(x))\n",
    "\n",
    "ham_matrix = ham_in_texts(hams, train_train['email'])\n",
    "spam_matrix = spam_in_texts(spams, train_train['email'])\n",
    "word_matrix = np.concatenate((ham_matrix, spam_matrix), axis=1)\n",
    "feat_matrix = train_train[['exclam_count', 're', 'word_count']]\n",
    "X_matrix = np.concatenate((word_matrix, feat_matrix), axis=1)\n",
    "\n",
    "y_col = train_train['spam']\n",
    "X_matrix.shape"
   ]
  },
  {
   "cell_type": "code",
   "execution_count": 24,
   "metadata": {},
   "outputs": [
    {
     "name": "stderr",
     "output_type": "stream",
     "text": [
      "/Users/Bogeun/anaconda3/lib/python3.6/site-packages/ipykernel_launcher.py:1: SettingWithCopyWarning: \n",
      "A value is trying to be set on a copy of a slice from a DataFrame.\n",
      "Try using .loc[row_indexer,col_indexer] = value instead\n",
      "\n",
      "See the caveats in the documentation: http://pandas.pydata.org/pandas-docs/stable/indexing.html#indexing-view-versus-copy\n",
      "  \"\"\"Entry point for launching an IPython kernel.\n",
      "/Users/Bogeun/anaconda3/lib/python3.6/site-packages/ipykernel_launcher.py:2: SettingWithCopyWarning: \n",
      "A value is trying to be set on a copy of a slice from a DataFrame.\n",
      "Try using .loc[row_indexer,col_indexer] = value instead\n",
      "\n",
      "See the caveats in the documentation: http://pandas.pydata.org/pandas-docs/stable/indexing.html#indexing-view-versus-copy\n",
      "  \n",
      "/Users/Bogeun/anaconda3/lib/python3.6/site-packages/ipykernel_launcher.py:3: SettingWithCopyWarning: \n",
      "A value is trying to be set on a copy of a slice from a DataFrame.\n",
      "Try using .loc[row_indexer,col_indexer] = value instead\n",
      "\n",
      "See the caveats in the documentation: http://pandas.pydata.org/pandas-docs/stable/indexing.html#indexing-view-versus-copy\n",
      "  This is separate from the ipykernel package so we can avoid doing imports until\n"
     ]
    }
   ],
   "source": [
    "train_test['exclam_count'] = train_test['email'].apply(lambda x: x.count('!'))\n",
    "train_test['re'] = train_test['subject'].apply(lambda x: search_for_re(x))\n",
    "train_test['word_count'] = train_test['email'].apply(lambda x: word_count(x))\n",
    "\n",
    "test_ham_matrix = ham_in_texts(hams, train_test['email'])\n",
    "test_spam_matrix = spam_in_texts(spams, train_test['email'])\n",
    "test_word_matrix = np.concatenate((test_ham_matrix, test_spam_matrix), axis=1)\n",
    "test_feat_matrix = train_test[['exclam_count', 're', 'word_count']]\n",
    "test_matrix = np.concatenate((test_word_matrix, test_feat_matrix), axis=1)"
   ]
  },
  {
   "cell_type": "code",
   "execution_count": 25,
   "metadata": {},
   "outputs": [
    {
     "data": {
      "text/plain": [
       "0.98322951605174891"
      ]
     },
     "execution_count": 25,
     "metadata": {},
     "output_type": "execute_result"
    }
   ],
   "source": [
    "clf_test = LogisticRegression()\n",
    "clf_test.fit(X_matrix, y_col)\n",
    "clf_test.score(test_matrix, train_test['spam'])"
   ]
  },
  {
   "cell_type": "markdown",
   "metadata": {},
   "source": [
    "### Feature/Model Selection Process\n",
    "\n",
    "In this following cell, describe the process of improving your model. You should use at least 2-3 sentences each to address the follow questions:\n",
    "\n",
    "1. How did you find better features for your model?\n",
    "2. What did you try that worked / didn't work?\n",
    "3. What was surprising in your search for good features?"
   ]
  },
  {
   "cell_type": "markdown",
   "metadata": {
    "tags": [
     "student",
     "written",
     "q_feature"
    ]
   },
   "source": [
    "1. Basically I just tried out patterns that I found from the EDA stage. After trying each pattern individually, I then combined them to see how they work together, and from that I was able to get a pretty good model.\n",
    "1. The thing that worked the best were the feature words, which contributed a lot to the model. Other features such as the number of exclamation points and word count didn't work as well, but they still add some accuracy to the model.\n",
    "1. I was surprised at a few words that favored ham/spam emails. For instance, \"marketing\" for spam and \"spam\" for ham. Another thing I was a bit surprised at is how the number of question marks aren't that different between spam and ham emails."
   ]
  },
  {
   "cell_type": "markdown",
   "metadata": {},
   "source": [
    "### EDA\n",
    "\n",
    "In the four light blue cells below, show us four different visualizations that you used to select features for your model. Each cell should output:\n",
    "\n",
    "1. A plot showing something meaningful about the data that helped you during feature / model selection.\n",
    "2. 2-3 sentences describing what you plotted and what its implications are for your features.\n",
    "\n",
    "Feel to create as many plots as you want in your process of feature selection, but select four interesting ones for the cells below.\n",
    "\n",
    "You should not show us more than one visualization for the same type of feature. For example, don't show us a bar chart of the number of emails that contain the word \"hello\" and a bar chart of the number of emails that contain the word \"world\". Each visualization should be conceptually distinct."
   ]
  },
  {
   "cell_type": "code",
   "execution_count": 26,
   "metadata": {
    "tags": [
     "student",
     "written",
     "q_eda1"
    ]
   },
   "outputs": [
    {
     "data": {
      "image/png": "[encoded data removed]",
      "text/plain": [
       "<matplotlib.figure.Figure at 0x10f2b04e0>"
      ]
     },
     "metadata": {},
     "output_type": "display_data"
    }
   ],
   "source": [
    "# This is the first graded EDA cell\n",
    "axes = plt.gca()\n",
    "axes.set_ylim([-2,25])\n",
    "\n",
    "fig = plt.boxplot([spam_df['exclam_count'], ham_df['exclam_count']])\n",
    "plt.xticks([1, 2], ['spam', 'ham'])\n",
    "\n",
    "plt.title('Number of Exclamation Points in Spam v. Ham Emails')\n",
    "plt.xlabel('Type of Email')\n",
    "plt.ylabel('count')\n",
    "\n",
    "plt.show()"
   ]
  },
  {
   "cell_type": "code",
   "execution_count": 27,
   "metadata": {
    "tags": [
     "student",
     "written",
     "q_eda2"
    ]
   },
   "outputs": [
    {
     "data": {
      "image/png": "[encoded data removed]",
      "text/plain": [
       "<matplotlib.figure.Figure at 0x11ddb6940>"
      ]
     },
     "metadata": {},
     "output_type": "display_data"
    }
   ],
   "source": [
    "# This is the second graded EDA cell\n",
    "re_data = (spam_re_count, ham_re_count)\n",
    "not_re_data = (spam_not_re_count, ham_not_re_count)\n",
    "index = np.arange(2)\n",
    "\n",
    "rects1 = plt.bar(index, re_data, 0.35,\n",
    "                 color='b',\n",
    "                 label='Reply')\n",
    " \n",
    "rects2 = plt.bar(index + 0.35, not_re_data, 0.35,\n",
    "                 color='g',\n",
    "                 label='Not Reply')\n",
    "\n",
    "plt.xlabel('Type of Email')\n",
    "plt.ylabel('Count')\n",
    "plt.title('Is Email Reply or Not?')\n",
    "plt.xticks(index + 0.35/2, ('Spam', 'Ham'))\n",
    "plt.legend()\n",
    " \n",
    "plt.tight_layout()\n",
    "plt.show()"
   ]
  },
  {
   "cell_type": "code",
   "execution_count": 28,
   "metadata": {
    "tags": [
     "student",
     "written",
     "q_eda3"
    ]
   },
   "outputs": [
    {
     "data": {
      "image/png": "[encoded data removed]",
      "text/plain": [
       "<matplotlib.figure.Figure at 0x11de86e10>"
      ]
     },
     "metadata": {},
     "output_type": "display_data"
    }
   ],
   "source": [
    "# This is the third graded EDA cell\n",
    "plot = plt.gca()\n",
    "plot.set_ylim([-100,2000])\n",
    "\n",
    "fig = plt.boxplot([spam_df['word_count'], ham_df['word_count']])\n",
    "plt.xticks([1, 2], ['spam', 'ham'])\n",
    "\n",
    "plt.title('Number of Words in Spam v. Ham Emails')\n",
    "plt.xlabel('Type of Email')\n",
    "plt.ylabel('count')\n",
    "\n",
    "plt.show()"
   ]
  },
  {
   "cell_type": "code",
   "execution_count": 29,
   "metadata": {
    "tags": [
     "student",
     "written",
     "q_eda4"
    ]
   },
   "outputs": [
    {
     "data": {
      "image/png": "[encoded data removed]",
      "text/plain": [
       "<matplotlib.figure.Figure at 0x11e050390>"
      ]
     },
     "metadata": {},
     "output_type": "display_data"
    }
   ],
   "source": [
    "# This is the fourth graded EDA cell\n",
    "# Explanation: The y-axis is a ratio of the number of times a word appears in a ham email compared to a spam email.\n",
    "# For example, if ratio = 5 then the word is 5 times more likely to be in a ham email than a spam email\n",
    "index_word = np.arange(10)\n",
    "\n",
    "plt.bar(index_word, word_ratios_filtered.head(10)['ratio'])\n",
    "plt.xlabel('Word')\n",
    "plt.ylabel('Ratio (ham/spam)')\n",
    "plt.title('Ratio of Word Appearance in Ham/Spam Emails')\n",
    "plt.xticks(index_word, word_ratios_filtered.head(10)['word'])\n",
    " \n",
    "plt.tight_layout()\n",
    "plt.show()"
   ]
  },
  {
   "cell_type": "markdown",
   "metadata": {},
   "source": [
    "### Making an ROC Curve\n",
    "\n",
    "It turns out that there's a tradeoff between sensitivity and specificity. In most cases we won't be able to get perfect sensitivity and specificity, so we have to select which of two we value more. For example, in the case of cancer screenings we value specificity more because false negatives are comparatively worse than false positives — a false negative means that a patient might not discover a disease until it's too late to treat, while a false positive means that a patient will probably have to take another screening.\n",
    "\n",
    "Recall that logistic regression calculates the probability that an example belongs to a certain class. Then, to classify an example we say that an email is spam if our classifier gives it >=0.5 probability of being spam. However, we can adjust that cutoff: we can say that an email is spam only if our classifier gives it >=0.7 probability of being spam, for example. This is how we can trade off sensitivity and specificity.\n",
    "\n",
    "The ROC (receiver operating charactistic) curve shows this trade off for each possible cutoff probability. We will discuss this during lecture, and you can also read [this blog post for more information.](https://www.theanalysisfactor.com/what-is-an-roc-curve/).\n",
    "\n",
    "In the light blue cell below, plot the ROC curve for your final classifier (the one you use to make predictions for Kaggle)."
   ]
  },
  {
   "cell_type": "code",
   "execution_count": 30,
   "metadata": {
    "collapsed": true
   },
   "outputs": [],
   "source": [
    "train['exclam_count'] = train['email'].apply(lambda x: x.count('!'))\n",
    "train['re'] = train['subject'].apply(lambda x: search_for_re(x))\n",
    "train['word_count'] = train['email'].apply(lambda x: word_count(x))\n",
    "\n",
    "hams_matrix = ham_in_texts(hams, train['email'])\n",
    "spams_matrix = spam_in_texts(spams, train['email'])\n",
    "words_matrix = np.concatenate((hams_matrix, spams_matrix), axis=1)\n",
    "feature_matrix = train[['exclam_count', 're', 'word_count']]\n",
    "X_train = np.concatenate((words_matrix, feature_matrix), axis=1)\n",
    "\n",
    "y = train['spam']\n",
    "\n",
    "test['exclam_count'] = test['email'].apply(lambda x: x.count('!'))\n",
    "test['re'] = test['subject'].apply(lambda x: search_for_re(x))\n",
    "test['word_count'] = test['email'].apply(lambda x: word_count(x))\n",
    "\n",
    "test_hams_matrix = ham_in_texts(hams, test['email'])\n",
    "test_spams_matrix = spam_in_texts(spams, test['email'])\n",
    "test_words_matrix = np.concatenate((test_hams_matrix, test_spams_matrix), axis=1)\n",
    "test_feature_matrix = test[['exclam_count', 're', 'word_count']]\n",
    "X_test = np.concatenate((test_words_matrix, test_feature_matrix), axis=1)"
   ]
  },
  {
   "cell_type": "code",
   "execution_count": 32,
   "metadata": {
    "tags": [
     "student",
     "written",
     "q_roc"
    ]
   },
   "outputs": [
    {
     "data": {
      "image/png": "[encoded data removed]",
      "text/plain": [
       "<matplotlib.figure.Figure at 0x11f44b320>"
      ]
     },
     "metadata": {},
     "output_type": "display_data"
    }
   ],
   "source": [
    "from sklearn.metrics import roc_curve, auc\n",
    "\n",
    "# Note that you'll want to use the .predict_proba(...) method for your classifier\n",
    "# instead of .predict(...) so you get probabilities, not classes\n",
    "classifier = LogisticRegression()\n",
    "classifier.fit(X_train, y)\n",
    "actual = classifier.predict(X_test)\n",
    "predictions = [x[1] for x in classifier.predict_proba(X_test)]\n",
    "\n",
    "y_score = classifier.fit(X_train, y).decision_function(X_test)\n",
    "\n",
    "# Compute ROC curve and ROC area for each class\n",
    "fpr = dict()\n",
    "tpr = dict()\n",
    "roc_auc = dict()\n",
    "for i in range(len(y)):\n",
    "    fpr[i], tpr[i], _ = roc_curve(actual, predictions)\n",
    "    roc_auc[i] = auc(fpr[i], tpr[i])\n",
    "\n",
    "# Compute micro-average ROC curve and ROC area\n",
    "fpr[\"micro\"], tpr[\"micro\"], _ = roc_curve(actual, predictions)\n",
    "roc_auc[\"micro\"] = auc(fpr[\"micro\"], tpr[\"micro\"])\n",
    "\n",
    "# Plot the ROC\n",
    "plt.figure()\n",
    "lw = 2\n",
    "plt.plot(fpr[2], tpr[2], color='darkorange',\n",
    "         lw=lw, label='ROC curve (area = %0.2f)' % roc_auc[2])\n",
    "plt.plot([0, 1], [0, 1], color='navy', lw=lw, linestyle='--')\n",
    "plt.xlim([0.0, 1.0])\n",
    "plt.ylim([0.0, 1.05])\n",
    "plt.xlabel('False Positive Rate')\n",
    "plt.ylabel('True Positive Rate')\n",
    "plt.title('Receiver operating characteristic example')\n",
    "plt.legend(loc=\"lower right\")\n",
    "plt.show()"
   ]
  },
  {
   "cell_type": "markdown",
   "metadata": {},
   "source": [
    "### Submitting to Kaggle\n",
    "\n",
    "The following code will write your predictions on the test dataset to a CSV, which you can submit to Kaggle. You may need to modify it to suit your needs.\n",
    "\n",
    "The code below assumes that you've saved your predictions in a 1-dimensional array called `test_predictions`.\n",
    "\n",
    "Remember that if you've performed transformations or featurization on the training data, you must also perform the same transformations on the test data in order to make predictions. For example, if you've created features for the words \"drug\" and \"money\" on the training data, you must also extract the same features in order to use scikit-learn's `.predict(...)` method.\n",
    "\n",
    "You should submit your CSV files to https://www.kaggle.com/t/433a6bca95f94a78a0d2a6e7e8b311c3"
   ]
  },
  {
   "cell_type": "code",
   "execution_count": 33,
   "metadata": {},
   "outputs": [
    {
     "name": "stdout",
     "output_type": "stream",
     "text": [
      "Created a CSV file: submission_2017-12-03T21:02:01.csv.\n",
      "You may now upload this CSV file to Kaggle for scoring.\n"
     ]
    }
   ],
   "source": [
    "from datetime import datetime\n",
    "\n",
    "classifier = LogisticRegression()\n",
    "classifier.fit(X_train, y)\n",
    "test_predictions = classifier.predict(X_test)\n",
    "\n",
    "# Assuming that your predictions on the test set are stored in a 1-dimensional array called\n",
    "# test_predictions. Feel free to modify this cell as long you create a CSV in the right format.\n",
    "assert isinstance(test_predictions, np.ndarray)\n",
    "assert test_predictions.shape == (1000, )\n",
    "\n",
    "submission_df = pd.DataFrame({\n",
    "    \"Id\": test['id'], \n",
    "    \"Class\": test_predictions,\n",
    "}, columns=['Id', 'Class'])\n",
    "\n",
    "timestamp = datetime.isoformat(datetime.now()).split(\".\")[0]\n",
    "\n",
    "submission_df.to_csv(\"submission_{}.csv\".format(timestamp), index=False)\n",
    "print('Created a CSV file: {}.'.format(\"submission_{}.csv\".format(timestamp)))\n",
    "print('You may now upload this CSV file to Kaggle for scoring.')"
   ]
  },
  {
   "cell_type": "markdown",
   "metadata": {},
   "source": [
    "## Submission\n",
    "\n",
    "Run the cell below to submit your notebook to OkPy:"
   ]
  },
  {
   "cell_type": "code",
   "execution_count": 34,
   "metadata": {},
   "outputs": [
    {
     "data": {
      "application/javascript": [
       "IPython.notebook.save_checkpoint();"
      ],
      "text/plain": [
       "<IPython.core.display.Javascript object>"
      ]
     },
     "metadata": {},
     "output_type": "display_data"
    },
    {
     "data": {
      "application/javascript": [
       "IPython.notebook.save_notebook();"
      ],
      "text/plain": [
       "<IPython.core.display.Javascript object>"
      ]
     },
     "metadata": {},
     "output_type": "display_data"
    },
    {
     "name": "stdout",
     "output_type": "stream",
     "text": [
      "Saving notebook... Saved 'proj2.ipynb'.\n",
      "Submit... 100% complete\n",
      "Submission successful for user: bogeunchoi@berkeley.edu\n",
      "URL: https://okpy.org/cal/ds100/fa17/proj2/submissions/RgLDZY\n",
      "\n"
     ]
    }
   ],
   "source": [
    "_ = ok.submit()"
   ]
  },
  {
   "cell_type": "markdown",
   "metadata": {},
   "source": [
    "Now, run this cell to create a PDF to upload to Gradescope."
   ]
  },
  {
   "cell_type": "code",
   "execution_count": 35,
   "metadata": {
    "tags": [
     "student",
     "no-ok"
    ]
   },
   "outputs": [
    {
     "name": "stdout",
     "output_type": "stream",
     "text": [
      "Requirement already up-to-date: gs100 in /Users/Bogeun/anaconda3/lib/python3.6/site-packages\n",
      "Requirement already up-to-date: nbformat>=4 in /Users/Bogeun/anaconda3/lib/python3.6/site-packages (from gs100)\n",
      "Requirement already up-to-date: PyPDF2>=1.26 in /Users/Bogeun/anaconda3/lib/python3.6/site-packages (from gs100)\n",
      "Requirement already up-to-date: pdfkit>=0.6 in /Users/Bogeun/anaconda3/lib/python3.6/site-packages (from gs100)\n",
      "Requirement already up-to-date: toolz>=0.8 in /Users/Bogeun/anaconda3/lib/python3.6/site-packages (from gs100)\n",
      "Requirement already up-to-date: beautifulsoup4>=4 in /Users/Bogeun/anaconda3/lib/python3.6/site-packages (from gs100)\n",
      "Requirement already up-to-date: nbconvert>=5 in /Users/Bogeun/anaconda3/lib/python3.6/site-packages (from gs100)\n",
      "Requirement already up-to-date: traitlets>=4.1 in /Users/Bogeun/anaconda3/lib/python3.6/site-packages (from nbformat>=4->gs100)\n",
      "Requirement already up-to-date: jsonschema!=2.5.0,>=2.4 in /Users/Bogeun/anaconda3/lib/python3.6/site-packages (from nbformat>=4->gs100)\n",
      "Requirement already up-to-date: jupyter-core in /Users/Bogeun/anaconda3/lib/python3.6/site-packages (from nbformat>=4->gs100)\n",
      "Requirement already up-to-date: ipython-genutils in /Users/Bogeun/anaconda3/lib/python3.6/site-packages (from nbformat>=4->gs100)\n",
      "Requirement already up-to-date: entrypoints>=0.2.2 in /Users/Bogeun/anaconda3/lib/python3.6/site-packages (from nbconvert>=5->gs100)\n",
      "Requirement already up-to-date: pandocfilters>=1.4.1 in /Users/Bogeun/anaconda3/lib/python3.6/site-packages (from nbconvert>=5->gs100)\n",
      "Requirement already up-to-date: testpath in /Users/Bogeun/anaconda3/lib/python3.6/site-packages (from nbconvert>=5->gs100)\n",
      "Requirement already up-to-date: pygments in /Users/Bogeun/anaconda3/lib/python3.6/site-packages (from nbconvert>=5->gs100)\n",
      "Requirement already up-to-date: jinja2 in /Users/Bogeun/anaconda3/lib/python3.6/site-packages (from nbconvert>=5->gs100)\n",
      "Collecting mistune>=0.7.4 (from nbconvert>=5->gs100)\n",
      "  Downloading mistune-0.8.2-py2.py3-none-any.whl\n",
      "Requirement already up-to-date: bleach in /Users/Bogeun/anaconda3/lib/python3.6/site-packages (from nbconvert>=5->gs100)\n",
      "Requirement already up-to-date: MarkupSafe>=0.23 in /Users/Bogeun/anaconda3/lib/python3.6/site-packages (from jinja2->nbconvert>=5->gs100)\n",
      "Requirement already up-to-date: html5lib!=1.0b1,!=1.0b2,!=1.0b3,!=1.0b4,!=1.0b5,!=1.0b6,!=1.0b7,!=1.0b8,>=0.99999999pre in /Users/Bogeun/anaconda3/lib/python3.6/site-packages (from bleach->nbconvert>=5->gs100)\n",
      "Requirement already up-to-date: six in /Users/Bogeun/.local/lib/python3.6/site-packages (from bleach->nbconvert>=5->gs100)\n",
      "Requirement already up-to-date: setuptools>=18.5 in /Users/Bogeun/.local/lib/python3.6/site-packages (from html5lib!=1.0b1,!=1.0b2,!=1.0b3,!=1.0b4,!=1.0b5,!=1.0b6,!=1.0b7,!=1.0b8,>=0.99999999pre->bleach->nbconvert>=5->gs100)\n",
      "Requirement already up-to-date: webencodings in /Users/Bogeun/anaconda3/lib/python3.6/site-packages (from html5lib!=1.0b1,!=1.0b2,!=1.0b3,!=1.0b4,!=1.0b5,!=1.0b6,!=1.0b7,!=1.0b8,>=0.99999999pre->bleach->nbconvert>=5->gs100)\n",
      "Installing collected packages: mistune\n",
      "  Found existing installation: mistune 0.8.1\n",
      "    Uninstalling mistune-0.8.1:\n",
      "      Successfully uninstalled mistune-0.8.1\n",
      "Successfully installed mistune-0.8.2\n"
     ]
    },
    {
     "data": {
      "application/javascript": [
       "IPython.notebook.save_checkpoint();"
      ],
      "text/plain": [
       "<IPython.core.display.Javascript object>"
      ]
     },
     "metadata": {},
     "output_type": "display_data"
    },
    {
     "data": {
      "application/javascript": [
       "IPython.notebook.save_notebook();"
      ],
      "text/plain": [
       "<IPython.core.display.Javascript object>"
      ]
     },
     "metadata": {},
     "output_type": "display_data"
    },
    {
     "name": "stdout",
     "output_type": "stream",
     "text": [
      "Saving notebook... Saved 'proj2.ipynb'.\n",
      "Created question_pdfs/q_email.pdf\n",
      "Created question_pdfs/q01.pdf\n",
      "Created question_pdfs/q06.pdf\n",
      "Created question_pdfs/q_feature.pdf\n",
      "Created question_pdfs/q_eda1.pdf\n",
      "Created question_pdfs/q_eda2.pdf\n",
      "Created question_pdfs/q_eda3.pdf\n",
      "Created question_pdfs/q_eda4.pdf\n",
      "Created question_pdfs/q_roc.pdf\n"
     ]
    },
    {
     "data": {
      "text/html": [
       "<a href=\"./gradescope.pdf\" target=\"_blank\">Done! Click this link to download the pdf. Upload this PDF to Gradescope for grading.</a>"
      ],
      "text/plain": [
       "<IPython.core.display.HTML object>"
      ]
     },
     "metadata": {},
     "output_type": "display_data"
    },
    {
     "name": "stdout",
     "output_type": "stream",
     "text": [
      "If the font size of your PDF is too small/large, change the value of the zoom argument when calling convert. For example, setting zoom=2 makes everything twice as big.\n"
     ]
    }
   ],
   "source": [
    "!pip install -U gs100\n",
    "from gs100 import convert\n",
    "# Change the zoom argument if your font size is too small\n",
    "convert('proj2.ipynb', num_questions=8, zoom=1)"
   ]
  },
  {
   "cell_type": "markdown",
   "metadata": {},
   "source": [
    "Make sure to upload your PDF now. Otherwise, your written questions won't be graded."
   ]
  },
  {
   "cell_type": "code",
   "execution_count": null,
   "metadata": {
    "collapsed": true
   },
   "outputs": [],
   "source": []
  }
 ],
 "metadata": {
  "kernelspec": {
   "display_name": "Python 3",
   "language": "python",
   "name": "python3"
  },
  "language_info": {
   "codemirror_mode": {
    "name": "ipython",
    "version": 3
   },
   "file_extension": ".py",
   "mimetype": "text/x-python",
   "name": "python",
   "nbconvert_exporter": "python",
   "pygments_lexer": "ipython3",
   "version": "3.8.5"
  }
 },
 "nbformat": 4,
 "nbformat_minor": 2
}
